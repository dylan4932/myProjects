{
 "cells": [
  {
   "cell_type": "markdown",
   "id": "b8012be7",
   "metadata": {},
   "source": [
    "# Web Scraping - Indeed.com\n",
    "General steps for Web Scraping\n",
    "1. Check whether the website allows web scraping\n",
    "2. Obtain the source code (HTML File) by using the website URL\n",
    "3. Download the website content\n",
    "4. Parse the content using keywords tags for elements of interest\n",
    "5. Extract relevant data/features\n",
    "6. Organize raw data in structured format (e.g., CSV)"
   ]
  },
  {
   "cell_type": "markdown",
   "id": "5876b0ab",
   "metadata": {},
   "source": [
    "### Import Dependencies "
   ]
  },
  {
   "cell_type": "code",
   "execution_count": 1,
   "id": "20edefb9",
   "metadata": {
    "tags": []
   },
   "outputs": [],
   "source": [
    "import pandas as pd\n",
    "from bs4 import BeautifulSoup\n",
    "from datetime import datetime\n",
    "from selenium import webdriver\n",
    "from selenium.webdriver.common.by import By"
   ]
  },
  {
   "cell_type": "markdown",
   "id": "d096d6e0",
   "metadata": {},
   "source": [
    "### Path to webdriver (Firefox, Chrome) "
   ]
  },
  {
   "cell_type": "code",
   "execution_count": 2,
   "id": "e8ff706e",
   "metadata": {
    "tags": []
   },
   "outputs": [],
   "source": [
    "# Ensure that the driver path is correct before running this script.\n",
    "# Microsoft Windows\n",
    "# driver_path = \"./drivers/windows/geckodriver.exe\"\n",
    "# Linux\n",
    "driver_path = r\"./drivers/geckodriver\"\n",
    "# driver = webdriver.Firefox(executable_path=driver_path)\n",
    "# driver = webdriver.Chrome(executable_path=driver_path)\n",
    "driver = webdriver.Chrome()"
   ]
  },
  {
   "cell_type": "markdown",
   "id": "77187fd5",
   "metadata": {},
   "source": [
    "### Define position and location "
   ]
  },
  {
   "cell_type": "code",
   "execution_count": 3,
   "id": "d2685a63",
   "metadata": {
    "tags": []
   },
   "outputs": [],
   "source": [
    "## Enter a job position\n",
    "position = \"data analyst\"\n",
    "## Enter a location (City, State or Zip or remote)\n",
    "locations = \"Canada\"\n",
    "\n",
    "def get_url(position, location):\n",
    "    url_template = \"https://ca.indeed.com/jobs?q={}&l={}\"\n",
    "    url = url_template.format(position, location)\n",
    "    return url\n",
    "\n",
    "url = get_url(position, locations)\n",
    "dataframe = pd.DataFrame(columns=[\"Title\", \"Company\", \"Location\", \"Rating\", \"Date\", \"Salary\", \"Description\", \"Links\"])"
   ]
  },
  {
   "cell_type": "markdown",
   "id": "308931c4",
   "metadata": {},
   "source": [
    "### Scrape job postings"
   ]
  },
  {
   "cell_type": "code",
   "execution_count": 4,
   "id": "115efb65",
   "metadata": {
    "tags": []
   },
   "outputs": [],
   "source": [
    "## Number of postings to scrape\n",
    "postings = 300\n",
    "\n",
    "jn= 600\n",
    "for i in range(600, postings, 10):\n",
    "    driver.get(url + \"&start=\" + str(i))\n",
    "    driver.implicitly_wait(3)\n",
    "\n",
    "    jobs = driver.find_elements(By.CLASS_NAME, 'job_seen_beacon')\n",
    "\n",
    "    for job in jobs:\n",
    "        result_html = job.get_attribute('innerHTML')\n",
    "        soup = BeautifulSoup(result_html, 'html.parser')\n",
    "        \n",
    "        jn += 1\n",
    "        \n",
    "        liens = job.find_elements(By.TAG_NAME, \"a\")\n",
    "        links = liens[0].get_attribute(\"href\")\n",
    "        \n",
    "        title = soup.select('.jobTitle')[0].get_text().strip()\n",
    "        company = soup.select('.companyName')[0].get_text().strip()\n",
    "        location = soup.select('.companyLocation')[0].get_text().strip()\n",
    "        try:\n",
    "            salary = soup.select('.salary-snippet-container')[0].get_text().strip()\n",
    "        except:\n",
    "            salary = 'NaN'\n",
    "        try:\n",
    "            rating = soup.select('.ratingNumber')[0].get_text().strip()\n",
    "        except:\n",
    "            rating = 'NaN'\n",
    "        try:\n",
    "            date = soup.select('.date')[0].get_text().strip()\n",
    "        except:\n",
    "            date = 'NaN'\n",
    "        try:\n",
    "            description = soup.select('.job-snippet')[0].get_text().strip()\n",
    "        except:\n",
    "            description = ''\n",
    "       \n",
    "        dataframe = pd.concat([dataframe, pd.DataFrame([{'Title': title,\n",
    "                                          \"Company\": company,\n",
    "                                          'Location': location,\n",
    "                                          'Rating': rating,\n",
    "                                          'Date': date,\n",
    "                                          \"Salary\": salary,\n",
    "                                          \"Description\": description,\n",
    "                                          \"Links\": links}])], ignore_index=True)\n",
    "        print(\"Job number {0:4d} added - {1:s}\".format(jn,title))"
   ]
  },
  {
   "cell_type": "code",
   "execution_count": 5,
   "id": "aa2d8ac6",
   "metadata": {
    "tags": []
   },
   "outputs": [],
   "source": [
    "driver.quit()"
   ]
  },
  {
   "cell_type": "markdown",
   "id": "96f3eb6e",
   "metadata": {},
   "source": [
    "### Scrape full job descriptions"
   ]
  },
  {
   "cell_type": "code",
   "execution_count": 163,
   "id": "c38b0e5a",
   "metadata": {
    "tags": []
   },
   "outputs": [],
   "source": [
    "Links_list = dataframe['Links'].tolist()\n",
    "#Links_list"
   ]
  },
  {
   "cell_type": "code",
   "execution_count": 164,
   "id": "4e28a2ae",
   "metadata": {
    "tags": []
   },
   "outputs": [],
   "source": [
    "import random\n",
    "import time"
   ]
  },
  {
   "cell_type": "code",
   "execution_count": 167,
   "id": "703a31f8",
   "metadata": {
    "tags": []
   },
   "outputs": [],
   "source": [
    "driver = webdriver.Chrome()\n",
    "descriptions=[]\n",
    "for i in Links_list:\n",
    "        driver.get(i)\n",
    "        driver.implicitly_wait(random.randint(3, 8))\n",
    "        try:\n",
    "            jd = driver.find_element(By.XPATH, '//div[@id=\"jobDescriptionText\"]').text\n",
    "            descriptions.append(jd)\n",
    "        except Exception:\n",
    "            descriptions.append('n/a')\n",
    "            pass\n",
    "        time.sleep(random.randint(5,10))\n",
    "\n",
    "dataframe['Descriptions'] = descriptions"
   ]
  },
  {
   "cell_type": "code",
   "execution_count": 168,
   "id": "23357773-94ef-49f8-bf81-8f5e704d7113",
   "metadata": {
    "tags": []
   },
   "outputs": [],
   "source": [
    "driver.quit()"
   ]
  },
  {
   "cell_type": "markdown",
   "id": "4b3ce6bb-08b1-4506-8f51-79ac65f8156b",
   "metadata": {
    "tags": []
   },
   "source": [
    "driver.quit()"
   ]
  },
  {
   "cell_type": "markdown",
   "id": "72e6ac4a",
   "metadata": {},
   "source": [
    "### Save results"
   ]
  },
  {
   "cell_type": "code",
   "execution_count": 169,
   "id": "f4626f96",
   "metadata": {
    "tags": []
   },
   "outputs": [],
   "source": [
    "# Convert the dataframe to a csv file\n",
    "date = datetime.today().strftime('%Y-%m-%d')\n",
    "dataframe.to_csv(date + \"_\" + position + \"_\" + locations + \".csv\", index=False)"
   ]
  },
  {
   "cell_type": "code",
   "execution_count": 170,
   "id": "b5e98364",
   "metadata": {
    "tags": []
   },
   "outputs": [
    {
     "data": {
      "text/html": [
       "<div>\n",
       "<style scoped>\n",
       "    .dataframe tbody tr th:only-of-type {\n",
       "        vertical-align: middle;\n",
       "    }\n",
       "\n",
       "    .dataframe tbody tr th {\n",
       "        vertical-align: top;\n",
       "    }\n",
       "\n",
       "    .dataframe thead th {\n",
       "        text-align: right;\n",
       "    }\n",
       "</style>\n",
       "<table border=\"1\" class=\"dataframe\">\n",
       "  <thead>\n",
       "    <tr style=\"text-align: right;\">\n",
       "      <th></th>\n",
       "      <th>Title</th>\n",
       "      <th>Company</th>\n",
       "      <th>Location</th>\n",
       "      <th>Rating</th>\n",
       "      <th>Date</th>\n",
       "      <th>Salary</th>\n",
       "      <th>Description</th>\n",
       "      <th>Links</th>\n",
       "      <th>Descriptions</th>\n",
       "    </tr>\n",
       "  </thead>\n",
       "  <tbody>\n",
       "    <tr>\n",
       "      <th>0</th>\n",
       "      <td>Bilingual Support Analyst</td>\n",
       "      <td>Kelly Services (Canada)</td>\n",
       "      <td>Remote</td>\n",
       "      <td>3.8</td>\n",
       "      <td>PostedPosted 1 day ago</td>\n",
       "      <td>$27 an hour</td>\n",
       "      <td>Strong ability to analyze data and communicate...</td>\n",
       "      <td>https://ca.indeed.com/pagead/clk?mo=r&amp;ad=-6NYl...</td>\n",
       "      <td>Kelly's customer, located in Markham, ON, is a...</td>\n",
       "    </tr>\n",
       "    <tr>\n",
       "      <th>1</th>\n",
       "      <td>Business Analyst- Accounting</td>\n",
       "      <td>Black Diamond Group</td>\n",
       "      <td>Calgary, AB</td>\n",
       "      <td>3.3</td>\n",
       "      <td>EmployerActive 2 days ago</td>\n",
       "      <td>$22.34–$70.01 an hour</td>\n",
       "      <td>Design test plans/scripts to confirm reporting...</td>\n",
       "      <td>https://ca.indeed.com/pagead/clk?mo=r&amp;ad=-6NYl...</td>\n",
       "      <td>Black Diamond rents and sells modular space so...</td>\n",
       "    </tr>\n",
       "    <tr>\n",
       "      <th>2</th>\n",
       "      <td>SAP CRM Functional Analyst</td>\n",
       "      <td>Canadian Pacific</td>\n",
       "      <td>Calgary, AB</td>\n",
       "      <td>2.9</td>\n",
       "      <td>PostedPosted 30+ days ago</td>\n",
       "      <td>NaN</td>\n",
       "      <td>Perform data analysis to understand how data i...</td>\n",
       "      <td>https://ca.indeed.com/pagead/clk?mo=r&amp;ad=-6NYl...</td>\n",
       "      <td>Req ID: 100398\\nDepartment: Information Servic...</td>\n",
       "    </tr>\n",
       "    <tr>\n",
       "      <th>3</th>\n",
       "      <td>Data analyst student</td>\n",
       "      <td>SNC-Lavalin</td>\n",
       "      <td>Toronto, ON</td>\n",
       "      <td>4.0</td>\n",
       "      <td>PostedPosted 22 days ago</td>\n",
       "      <td>NaN</td>\n",
       "      <td>To…</td>\n",
       "      <td>https://ca.indeed.com/rc/clk?jk=1f2318c2acc741...</td>\n",
       "      <td>To provide</td>\n",
       "    </tr>\n",
       "    <tr>\n",
       "      <th>4</th>\n",
       "      <td>REMOTE Project-based roles - Data Analyst</td>\n",
       "      <td>Deloitte</td>\n",
       "      <td>Remote in Toronto, ON</td>\n",
       "      <td>3.9</td>\n",
       "      <td>PostedPosted 16 days ago</td>\n",
       "      <td>NaN</td>\n",
       "      <td>In addition, for this particular data analyst ...</td>\n",
       "      <td>https://ca.indeed.com/rc/clk?jk=ad5ed76a4a1a89...</td>\n",
       "      <td>Job Type: Independent Contractor\\nReference co...</td>\n",
       "    </tr>\n",
       "    <tr>\n",
       "      <th>...</th>\n",
       "      <td>...</td>\n",
       "      <td>...</td>\n",
       "      <td>...</td>\n",
       "      <td>...</td>\n",
       "      <td>...</td>\n",
       "      <td>...</td>\n",
       "      <td>...</td>\n",
       "      <td>...</td>\n",
       "      <td>...</td>\n",
       "    </tr>\n",
       "    <tr>\n",
       "      <th>295</th>\n",
       "      <td>Business Analyst (PL432)</td>\n",
       "      <td>Paralucent</td>\n",
       "      <td>Remote</td>\n",
       "      <td>NaN</td>\n",
       "      <td>PostedPosted 27 days ago</td>\n",
       "      <td>NaN</td>\n",
       "      <td>Strong problem solving, critical thinking, and...</td>\n",
       "      <td>https://ca.indeed.com/rc/clk?jk=d6d6bf9ce46a0a...</td>\n",
       "      <td>We are seeking a Business Analyst for our clie...</td>\n",
       "    </tr>\n",
       "    <tr>\n",
       "      <th>296</th>\n",
       "      <td>Workforce Analyst - 9 Month Contract</td>\n",
       "      <td>407 ETR</td>\n",
       "      <td>Woodbridge, ON</td>\n",
       "      <td>3.7</td>\n",
       "      <td>PostedPosted 2 days ago</td>\n",
       "      <td>NaN</td>\n",
       "      <td>1-2 years of data analysis experience preferre...</td>\n",
       "      <td>https://ca.indeed.com/rc/clk?jk=bc5dde23545fb4...</td>\n",
       "      <td>Position Summary:\\nAs a successful Workforce A...</td>\n",
       "    </tr>\n",
       "    <tr>\n",
       "      <th>297</th>\n",
       "      <td>Senior Business Analyst - Contract</td>\n",
       "      <td>KPMG</td>\n",
       "      <td>Toronto, ON</td>\n",
       "      <td>3.9</td>\n",
       "      <td>PostedPosted 23 days ago</td>\n",
       "      <td>NaN</td>\n",
       "      <td>Perform research, data gathering and analysis....</td>\n",
       "      <td>https://ca.indeed.com/rc/clk?jk=1fbf6879d6f6e5...</td>\n",
       "      <td>Overview:\\nKPMG is an industry leading firm th...</td>\n",
       "    </tr>\n",
       "    <tr>\n",
       "      <th>298</th>\n",
       "      <td>Digital Marketing Analyst</td>\n",
       "      <td>CARFAX</td>\n",
       "      <td>Toronto, ON</td>\n",
       "      <td>NaN</td>\n",
       "      <td>PostedPosted 30+ days ago</td>\n",
       "      <td>NaN</td>\n",
       "      <td>Wrangle data from online and offline data sour...</td>\n",
       "      <td>https://ca.indeed.com/pagead/clk?mo=r&amp;ad=-6NYl...</td>\n",
       "      <td>Join Team CARFAX as a Digital Marketing Analys...</td>\n",
       "    </tr>\n",
       "    <tr>\n",
       "      <th>299</th>\n",
       "      <td>SAP Business Analyst</td>\n",
       "      <td>Ana-Data Consulting Inc</td>\n",
       "      <td>Hybrid remote in Mississauga, ON</td>\n",
       "      <td>NaN</td>\n",
       "      <td>Hiring ongoing</td>\n",
       "      <td>$90,000–$95,000 a year</td>\n",
       "      <td>Proficiency in data manipulation languages, in...</td>\n",
       "      <td>https://ca.indeed.com/company/Ana--data/jobs/S...</td>\n",
       "      <td>Knowledge &amp; Skills Required\\nCertified SAP Bus...</td>\n",
       "    </tr>\n",
       "  </tbody>\n",
       "</table>\n",
       "<p>300 rows × 9 columns</p>\n",
       "</div>"
      ],
      "text/plain": [
       "                                         Title                  Company  \\\n",
       "0                    Bilingual Support Analyst  Kelly Services (Canada)   \n",
       "1                 Business Analyst- Accounting      Black Diamond Group   \n",
       "2                   SAP CRM Functional Analyst         Canadian Pacific   \n",
       "3                         Data analyst student              SNC-Lavalin   \n",
       "4    REMOTE Project-based roles - Data Analyst                 Deloitte   \n",
       "..                                         ...                      ...   \n",
       "295                   Business Analyst (PL432)               Paralucent   \n",
       "296       Workforce Analyst - 9 Month Contract                  407 ETR   \n",
       "297         Senior Business Analyst - Contract                     KPMG   \n",
       "298                  Digital Marketing Analyst                   CARFAX   \n",
       "299                       SAP Business Analyst  Ana-Data Consulting Inc   \n",
       "\n",
       "                             Location Rating                       Date  \\\n",
       "0                              Remote    3.8     PostedPosted 1 day ago   \n",
       "1                         Calgary, AB    3.3  EmployerActive 2 days ago   \n",
       "2                         Calgary, AB    2.9  PostedPosted 30+ days ago   \n",
       "3                         Toronto, ON    4.0   PostedPosted 22 days ago   \n",
       "4               Remote in Toronto, ON    3.9   PostedPosted 16 days ago   \n",
       "..                                ...    ...                        ...   \n",
       "295                            Remote    NaN   PostedPosted 27 days ago   \n",
       "296                    Woodbridge, ON    3.7    PostedPosted 2 days ago   \n",
       "297                       Toronto, ON    3.9   PostedPosted 23 days ago   \n",
       "298                       Toronto, ON    NaN  PostedPosted 30+ days ago   \n",
       "299  Hybrid remote in Mississauga, ON    NaN             Hiring ongoing   \n",
       "\n",
       "                     Salary  \\\n",
       "0               $27 an hour   \n",
       "1     $22.34–$70.01 an hour   \n",
       "2                       NaN   \n",
       "3                       NaN   \n",
       "4                       NaN   \n",
       "..                      ...   \n",
       "295                     NaN   \n",
       "296                     NaN   \n",
       "297                     NaN   \n",
       "298                     NaN   \n",
       "299  $90,000–$95,000 a year   \n",
       "\n",
       "                                           Description  \\\n",
       "0    Strong ability to analyze data and communicate...   \n",
       "1    Design test plans/scripts to confirm reporting...   \n",
       "2    Perform data analysis to understand how data i...   \n",
       "3                                                  To…   \n",
       "4    In addition, for this particular data analyst ...   \n",
       "..                                                 ...   \n",
       "295  Strong problem solving, critical thinking, and...   \n",
       "296  1-2 years of data analysis experience preferre...   \n",
       "297  Perform research, data gathering and analysis....   \n",
       "298  Wrangle data from online and offline data sour...   \n",
       "299  Proficiency in data manipulation languages, in...   \n",
       "\n",
       "                                                 Links  \\\n",
       "0    https://ca.indeed.com/pagead/clk?mo=r&ad=-6NYl...   \n",
       "1    https://ca.indeed.com/pagead/clk?mo=r&ad=-6NYl...   \n",
       "2    https://ca.indeed.com/pagead/clk?mo=r&ad=-6NYl...   \n",
       "3    https://ca.indeed.com/rc/clk?jk=1f2318c2acc741...   \n",
       "4    https://ca.indeed.com/rc/clk?jk=ad5ed76a4a1a89...   \n",
       "..                                                 ...   \n",
       "295  https://ca.indeed.com/rc/clk?jk=d6d6bf9ce46a0a...   \n",
       "296  https://ca.indeed.com/rc/clk?jk=bc5dde23545fb4...   \n",
       "297  https://ca.indeed.com/rc/clk?jk=1fbf6879d6f6e5...   \n",
       "298  https://ca.indeed.com/pagead/clk?mo=r&ad=-6NYl...   \n",
       "299  https://ca.indeed.com/company/Ana--data/jobs/S...   \n",
       "\n",
       "                                          Descriptions  \n",
       "0    Kelly's customer, located in Markham, ON, is a...  \n",
       "1    Black Diamond rents and sells modular space so...  \n",
       "2    Req ID: 100398\\nDepartment: Information Servic...  \n",
       "3                                           To provide  \n",
       "4    Job Type: Independent Contractor\\nReference co...  \n",
       "..                                                 ...  \n",
       "295  We are seeking a Business Analyst for our clie...  \n",
       "296  Position Summary:\\nAs a successful Workforce A...  \n",
       "297  Overview:\\nKPMG is an industry leading firm th...  \n",
       "298  Join Team CARFAX as a Digital Marketing Analys...  \n",
       "299  Knowledge & Skills Required\\nCertified SAP Bus...  \n",
       "\n",
       "[300 rows x 9 columns]"
      ]
     },
     "execution_count": 170,
     "metadata": {},
     "output_type": "execute_result"
    }
   ],
   "source": [
    "dataframe"
   ]
  },
  {
   "cell_type": "code",
   "execution_count": null,
   "id": "39a03592-c15e-46de-89f4-88815b8cbf83",
   "metadata": {},
   "outputs": [],
   "source": []
  }
 ],
 "metadata": {
  "kernelspec": {
   "display_name": "Python 3 (ipykernel)",
   "language": "python",
   "name": "python3"
  },
  "language_info": {
   "codemirror_mode": {
    "name": "ipython",
    "version": 3
   },
   "file_extension": ".py",
   "mimetype": "text/x-python",
   "name": "python",
   "nbconvert_exporter": "python",
   "pygments_lexer": "ipython3",
   "version": "3.11.2"
  }
 },
 "nbformat": 4,
 "nbformat_minor": 5
}
